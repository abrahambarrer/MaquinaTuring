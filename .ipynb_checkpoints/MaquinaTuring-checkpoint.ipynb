{
 "cells": [
  {
   "cell_type": "markdown",
   "id": "2b15e1e8-b614-4297-b6af-6c829266f67b",
   "metadata": {},
   "source": [
    "# Máquinas de Turing\n",
    "Las Máquinas de Turing son una abstracción de una computadora que se considera capaz de realizar cualquier cómputo posible. Siendo así, *computable* puede definirse como aquello computable por una máquina de Turing.\n",
    "\n",
    "En este notebook se presenta una **implementación de una simulación de una Máquina de Turing determinística de una cinta en Python**. Cabe decir que esta simulación sirve para **lenguajes decidibles**. Esto significa que dado un lenguaje $L$ y una cadena $w$:\n",
    "* Si $w\\in L$, la Máquina de Turing acepta $w$ y termina el cómputo.\n",
    "* Si $w\\notin L$, la Máquina de Turing *rechaza* $w$ y termina el cómputo.\n",
    "\n",
    "## Definición\n",
    "Existen diferencias en la definición de una máquina de Turing. Para esta implementación, se tomará en cuenta a Kozen (1997). Una máquina Turing determinística de una cinta es una 9-tupla\n",
    "$$M=(Q,\\Sigma,\\Gamma,\\vdash,b,\\delta,q_0,t,r)$$\n",
    "donde \n",
    "* $Q$ es un conjunto finito de estados;\n",
    "* $\\Sigma$ es un conjunto finito (alfabeto de entrada);\n",
    "* $\\Gamma$ es un conjunto finito (alfabeto de la cinta), tal que $\\Sigma\\subset\\Gamma$;\n",
    "* $b\\in\\Gamma - \\Sigma$, el símbolo *espacio en blanco*;\n",
    "* $\\vdash\\in\\Gamma - \\Sigma$, el delimitador izquierdo;\n",
    "* $\\delta:Q\\times\\Gamma\\to Q\\times\\Gamma\\times\\{L,R\\}$, la función de transición, donde el conjunto $\\{L,R\\}$ indica el avance de la cinta a la izquierda ($L$) o derecha ($R$);\n",
    "* $q_0\\in Q$, el estado inicial;\n",
    "* $t\\in Q$, el estado de aceptación; y\n",
    "* $r\\in Q$, el estado de rechazo, $t\\neq r$.\n",
    "\n",
    "Como se ve en esta definición, se añade como elemento un **delimitador izquierdo**, lo que significa que define una máquina de Turing cuya cinta tiene potencial infinito solo en la dirección izquierda, sin posibilidad de añadir elementos a la izquierda. Se hará omisión de tal elemento para definir una máquina de Turing con una cinta con potencial infinito en ambas direcciones. Sin embargo, se tomará la idea de estados de rechazo con la diferencia de que será un conjunto, así como los estados de aceptación serán un conjunto.\n",
    "\n",
    "Entonces definiremos una máquina de Turing como una 8-tupla:\n",
    "$$M=(Q,\\Sigma,\\Gamma,b,\\delta,q_0,F,R)$$\n",
    "donde\n",
    "* $Q$ es un conjunto finito de estados;\n",
    "* $\\Sigma$ es un conjunto finito (alfabeto de entrada);\n",
    "* $\\Gamma$ es un conjunto finito (alfabeto de la cinta), tal que $\\Sigma\\subset\\Gamma$;\n",
    "* $b\\in\\Gamma - \\Sigma$, el símbolo *espacio en blanco*;\n",
    "* $\\delta:Q\\times\\Gamma\\to Q\\times\\Gamma\\times\\{L,R\\}$, la función de transición, donde el conjunto $\\{L,R\\}$ indica el avance de la cinta a la izquierda ($L$) o derecha ($R$);\n",
    "* $q_0\\in Q$, el estado inicial;\n",
    "* $F\\subseteq Q$, el conjunto de estados de aceptación; y\n",
    "* $R\\subseteq Q$, el conjunto de estados de rechazo."
   ]
  },
  {
   "cell_type": "markdown",
   "id": "4c4efb6f-cffc-41be-8461-fe361c2be221",
   "metadata": {},
   "source": [
    "## Implementación\n",
    "Se presenta una implementación simple de una máquina de Turing tal como se definió en la sección anterior. En este paso se crea la clase `TM` de la cual sus objetos simularán una máquina de Turing.\n",
    "### Método `init`\n",
    "El método `init` añade atributos correspondientes a cada parámetro recibido al crear un objeto. A su vez, cada parámetro representa un elemento de una máquina de Turing como se definió en la sección anterior. Se destaca el atributo `delta`, que se debe añadir como una estructura de `dictionary` cuyas claves funcionan como el par ordenado de la función, y cuyo valor es la imagen de la función. Es decir\n",
    "$$\\delta(p,X)=(q,Y,D)$$\n",
    "es equivalente a\n",
    "```Python\n",
    "delta[(q,'X')] # Accede a la tupla (q,'Y',D)\n",
    "```\n",
    "### Método `run`\n",
    "Además, se define el método `run` que pone en marcha la máquina para decidir si un string pertenece o no al lenguaje. El método recibe un string `w` como parámetro.\n",
    "* Se crea una variable `q` que representa el estado actual de la máquina al procesar una cadena. Se inicia con el valor del atributo `self.q0`.\n",
    "* La cinta se inicializa como la misma cadena `w`, la cual se modifica añadiendo el simbolo espacio en blanco a la izquierda y derecha del string original. De ser necesario, se añadiran más espacios en blanco si la cabeza señala un índice del string que excede su longitud.\n",
    "* La posición señalada por la cabeza se representa por la variable `i`, que funciona como índice para recorrer el string `w`, que representa la cinta.\n",
    "\n",
    "El ciclo `while` consiste en procesar la cadena hasta que el estado actual `q` pertenezca al set `F` (string aceptado) o al set `R` (string rechazado). La expresión\n",
    "```Python\n",
    "q, w, D = self.delta[(q, w[i])][0], w[:i] + self.delta[(q, w[i])][1] + w[i + 1:], self.delta[(q,w[i])][2]\n",
    "```\n",
    "modifica los valores de las variables `q` (estado), `w` (cinta) y `D` (dirección a la que avanza la cabeza). La modificación se realiza en una sola línea de código para evitar el uso de variables temporales (después de modificar el estado `q`, cambiaría la clave de acceso al diccionario). Como se ve, el acceso a los valores del diccionario utilizan los índices `0`,`1`, y `2` para `q`, `w` y `D`, respectivamente.\n",
    "\n",
    "Después de realizar la modificación, el índice `i` se incrementa o decrementa en 1 según la dirección recibida. Al salir del ciclo `while`, el método devuelve un `boolean` que indica si la cadena fue aceptada o no."
   ]
  },
  {
   "cell_type": "code",
   "execution_count": 1,
   "id": "4f03ca3b-54f2-488c-b913-3d344bbcad4b",
   "metadata": {},
   "outputs": [],
   "source": [
    "class TM:\n",
    "    def __init__(self, Q, Sigma, Gamma, delta, q0, b, F, R):\n",
    "        self.Q = Q # Estados\n",
    "        self.Sigma = Sigma # Alfabeto de entrada\n",
    "        self.Gamma = Gamma # Alfabeto de cinta\n",
    "        self.delta = delta # Funcion de transicion como diccionario\n",
    "        self.q0 = q0 # Estado inicial\n",
    "        self.b = b # Blank space\n",
    "        self.F = F # Estados de aceptacion\n",
    "        self.R = R # Reject\n",
    "        \n",
    "    def run(self, w):\n",
    "        q = self.q0\n",
    "        w = self.b + w + self.b\n",
    "        i = 1\n",
    "\n",
    "        while not(q in self.F) and not(q in self.R):\n",
    "            q, w, D = self.delta[(q,w[i])][0], w[:i] + self.delta[(q,w[i])][1] + w[i+1:], self.delta[(q,w[i])][2]\n",
    "            if D == 'R':\n",
    "                i += 1\n",
    "            else:\n",
    "                i -= 1\n",
    "            if i >= len(w): w = w + self.b\n",
    "            if i < 0: w = self.b + w\n",
    "            print(w) # Linea adicional para imprimir movimientos\n",
    "        return q in self.F"
   ]
  },
  {
   "cell_type": "markdown",
   "id": "0647408e-c846-450e-a003-efd163cf2253",
   "metadata": {},
   "source": [
    "### Ejemplo\r\n",
    "Se examinará un ejemplo del uso de la clase `TM`, para lo cual se define la máquina de Turing que acepta las cadenas que pertenece al lenguaje\r\n",
    "$$L=\\{0^n1^n\\mid n\\geq0\\}$$\r\n",
    "La máquina se define como $$M=(\\{q_0,q_1,q_2,q_3,q_4,q_r\\},\\{0,1\\},\\{0,1,X,Y,b\\},\\delta,q_0,b,\\{q_4\\},\\{q_r\\})$$\r\n",
    "donde la función $\\delta$ se define como\r\n",
    "| Estado | 0           |      1      |      X      |      Y      |      b      | \r\n",
    "|--------|-------------|-------------|-------------|-------------|-------------|\r\n",
    "| $q_0$  | $(q_1,X,R)$ | $(q_r,1,R)$ |             | $(q_3,Y,R)$ | $(q_4,b,R)$ |\r\n",
    "| $q_1$  | $(q_1,0,R)$ | $(q_2,Y,L)$ |             | $(q_1,Y,R)$ | $(q_r,b,R)$ |\r\n",
    "| $q_2$  | $(q_2,0,L)$ |             | $(q_0,X,R$  | $(q_2,Y,L)$ |             |\r\n",
    "| $q_3$  | $(q_0,0,R)$ |             |             | $(q_3,Y,R)$ | $(q_4,b,R)$ |\r\n",
    "| $q_4$  |             |             |             |             | $(q_4,b,R)$ |\r\n",
    "| $q_r$  |             |             |             |             |             |\r\n",
    "\r\n",
    "\r\n",
    "Las entradas vacías no son relevantes. El diagrama de transición es el siguiente\r\n",
    "\r\n",
    "<div style=\"text-align: center;\">\r\n",
    "  <img src=\"diagrama_transicion.png\" alt=\"diagrama_transicion\" width=\"500\"/>\r\n",
    "</div>"
   ]
  },
  {
   "cell_type": "markdown",
   "id": "cfc9f9b5-0a84-4c9e-9358-7fa129c00edd",
   "metadata": {},
   "source": [
    "A continuación se agrega crean las variables que recibirán los atributos. El conjunto de estados $Q$"
   ]
  },
  {
   "cell_type": "code",
   "execution_count": 2,
   "id": "2e90d11e-ecbd-4c5a-bc66-bb9fe5a385be",
   "metadata": {},
   "outputs": [],
   "source": [
    "Q = {0,1,2,3,4,'r'}"
   ]
  },
  {
   "cell_type": "markdown",
   "id": "f0967e8c-b96c-4e95-ac7f-d2273b5995b1",
   "metadata": {},
   "source": [
    "El alfabeto de entrada $\\Sigma$"
   ]
  },
  {
   "cell_type": "code",
   "execution_count": 3,
   "id": "2dcb392c-0b33-4af7-8dc3-0c3a46cfbba7",
   "metadata": {},
   "outputs": [],
   "source": [
    "Sigma = {'0','1'}"
   ]
  },
  {
   "cell_type": "markdown",
   "id": "851b5c78-4044-4e3f-9c7e-6a5e46d99eda",
   "metadata": {},
   "source": [
    "El alfabeto de la cinta $\\Gamma$"
   ]
  },
  {
   "cell_type": "code",
   "execution_count": 4,
   "id": "592a97fe-419d-45ea-8825-9aab5dc26efa",
   "metadata": {},
   "outputs": [],
   "source": [
    "Gamma = {'0','1','X','Y','_'}"
   ]
  },
  {
   "cell_type": "markdown",
   "id": "953a9639-8252-429e-ab1e-642a59faea56",
   "metadata": {},
   "source": [
    "La función de transición $\\delta$ como un diccionario"
   ]
  },
  {
   "cell_type": "code",
   "execution_count": 5,
   "id": "2061fad6-b6cd-46a2-ac21-294b9c5f2849",
   "metadata": {},
   "outputs": [],
   "source": [
    "delta = {\n",
    "\t(0,'0') : (1,'X','R'), (0,'1') : ('r','1','R'), (0,'Y') : (3,'Y','R'), (0,'_') : (4,'_','R'),\n",
    "\t(1,'0') : (1,'0','R'), (1,'1') : (2,'Y','L'), (1,'Y') : (1,'Y','R'), (1,'_') : ('r','_','R'),\n",
    "\t(2,'0') : (2,'0','L'), (2,'X') : (0,'X','R'), (2,'Y') : (2,'Y','L'),\n",
    "\t(3,'0') : ('r','0','R'), (3,'Y') : (3,'Y','R'), (3,'_') : (4,'_','R')\n",
    "}"
   ]
  },
  {
   "cell_type": "markdown",
   "id": "ee563e59-4577-48a8-9721-fabe40619494",
   "metadata": {},
   "source": [
    "El estado inicial $q_0$"
   ]
  },
  {
   "cell_type": "code",
   "execution_count": 6,
   "id": "97d92d0a-c4fb-4c58-b74e-be0e2405d064",
   "metadata": {},
   "outputs": [],
   "source": [
    "q0 = 0"
   ]
  },
  {
   "cell_type": "markdown",
   "id": "2bb2edfd-f047-4ac1-b9a0-68730f552dbf",
   "metadata": {},
   "source": [
    "El símbolo espacio en blanco como `'_'`"
   ]
  },
  {
   "cell_type": "code",
   "execution_count": 7,
   "id": "ca1eea68-8082-4915-8131-635992453717",
   "metadata": {},
   "outputs": [],
   "source": [
    "b = '_'"
   ]
  },
  {
   "cell_type": "markdown",
   "id": "aa709498-f6d5-434d-bf77-e86143935711",
   "metadata": {},
   "source": [
    "El conjunto de estados de aceptación $F$"
   ]
  },
  {
   "cell_type": "code",
   "execution_count": 8,
   "id": "8461259b-b592-4ffe-8b4d-0326109c677b",
   "metadata": {},
   "outputs": [],
   "source": [
    "F = {4}"
   ]
  },
  {
   "cell_type": "markdown",
   "id": "913054c7-6d8c-4ba1-8b03-6f5460f51b85",
   "metadata": {},
   "source": [
    "El conjunto de estados de rechazo $R$"
   ]
  },
  {
   "cell_type": "code",
   "execution_count": 9,
   "id": "dfd94465-3ed4-4332-9736-43e4e8ab7614",
   "metadata": {},
   "outputs": [],
   "source": [
    "R = {'r'}"
   ]
  },
  {
   "cell_type": "markdown",
   "id": "0c3b26b2-53d2-473f-8a59-8d905275fd6f",
   "metadata": {},
   "source": [
    "Se procede a crear un objeto con tales argumentos."
   ]
  },
  {
   "cell_type": "code",
   "execution_count": 10,
   "id": "43cde75a-4b11-473b-9681-0aa4e259ce38",
   "metadata": {},
   "outputs": [],
   "source": [
    "TM0 = TM(Q, Sigma, Gamma, delta, q0, b, F, R)"
   ]
  },
  {
   "cell_type": "markdown",
   "id": "ada8d7fa-0100-49a6-a518-086b81711ebd",
   "metadata": {},
   "source": [
    "Ya es posible verificar cadenas con el método `run`. Se se mostrarán los movimientos que realiza la máquina en la verificación. Se empezará con una cadena aceptada `'0001111'`:"
   ]
  },
  {
   "cell_type": "code",
   "execution_count": 11,
   "id": "9ca8e3ae-b13e-41b6-bbd4-7d2267486b77",
   "metadata": {},
   "outputs": [
    {
     "name": "stdout",
     "output_type": "stream",
     "text": [
      "_X00111_\n",
      "_X00111_\n",
      "_X00111_\n",
      "_X00Y11_\n",
      "_X00Y11_\n",
      "_X00Y11_\n",
      "_X00Y11_\n",
      "_XX0Y11_\n",
      "_XX0Y11_\n",
      "_XX0Y11_\n",
      "_XX0YY1_\n",
      "_XX0YY1_\n",
      "_XX0YY1_\n",
      "_XX0YY1_\n",
      "_XXXYY1_\n",
      "_XXXYY1_\n",
      "_XXXYY1_\n",
      "_XXXYYY_\n",
      "_XXXYYY_\n",
      "_XXXYYY_\n",
      "_XXXYYY_\n",
      "_XXXYYY_\n",
      "_XXXYYY_\n",
      "_XXXYYY_\n",
      "_XXXYYY__\n"
     ]
    },
    {
     "data": {
      "text/plain": [
       "True"
      ]
     },
     "execution_count": 11,
     "metadata": {},
     "output_type": "execute_result"
    }
   ],
   "source": [
    "TM0.run('000111')"
   ]
  },
  {
   "cell_type": "markdown",
   "id": "249acfab-359e-4c58-aec7-5674fead43fc",
   "metadata": {},
   "source": [
    "La cadena vacía $\\epsilon$ también pertenece al lenguaje:"
   ]
  },
  {
   "cell_type": "code",
   "execution_count": 12,
   "id": "24b4a99c-9871-409d-9578-7d97163ba711",
   "metadata": {},
   "outputs": [
    {
     "name": "stdout",
     "output_type": "stream",
     "text": [
      "___\n"
     ]
    },
    {
     "data": {
      "text/plain": [
       "True"
      ]
     },
     "execution_count": 12,
     "metadata": {},
     "output_type": "execute_result"
    }
   ],
   "source": [
    "TM0.run('')"
   ]
  },
  {
   "cell_type": "markdown",
   "id": "79a9b87f-ac6e-42ff-832d-624dc0c5b04e",
   "metadata": {},
   "source": [
    "Una cadena que no pertence al lenguaje como `'0010'`:"
   ]
  },
  {
   "cell_type": "code",
   "execution_count": 13,
   "id": "02d318b9-67cd-4d98-8f40-017c76154f1b",
   "metadata": {},
   "outputs": [
    {
     "name": "stdout",
     "output_type": "stream",
     "text": [
      "_X010_\n",
      "_X010_\n",
      "_X0Y0_\n",
      "_X0Y0_\n",
      "_X0Y0_\n",
      "_XXY0_\n",
      "_XXY0_\n",
      "_XXY0_\n",
      "_XXY0__\n"
     ]
    },
    {
     "data": {
      "text/plain": [
       "False"
      ]
     },
     "execution_count": 13,
     "metadata": {},
     "output_type": "execute_result"
    }
   ],
   "source": [
    "TM0.run('0010')"
   ]
  },
  {
   "cell_type": "markdown",
   "id": "12b1a802-60b1-4649-a462-8db05c6cfbd1",
   "metadata": {},
   "source": [
    "## Conclusión\n",
    "Como se estudió en el notebook, una máquina de Turing es una abstracción computacional de gran capacidad. La simulación implementada resulta intuitiva y es útil para procesar cadenas en un lenguaje decidible tal como lo haría una máquina de Turing."
   ]
  }
 ],
 "metadata": {
  "kernelspec": {
   "display_name": "Python 3 (ipykernel)",
   "language": "python",
   "name": "python3"
  },
  "language_info": {
   "codemirror_mode": {
    "name": "ipython",
    "version": 3
   },
   "file_extension": ".py",
   "mimetype": "text/x-python",
   "name": "python",
   "nbconvert_exporter": "python",
   "pygments_lexer": "ipython3",
   "version": "3.11.7"
  }
 },
 "nbformat": 4,
 "nbformat_minor": 5
}
